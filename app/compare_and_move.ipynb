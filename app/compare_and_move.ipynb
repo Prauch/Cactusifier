{
 "cells": [
  {
   "cell_type": "code",
   "execution_count": 103,
   "metadata": {},
   "outputs": [],
   "source": [
    "import os, cv2 as cv, shutil"
   ]
  },
  {
   "cell_type": "code",
   "execution_count": 45,
   "metadata": {},
   "outputs": [],
   "source": [
    "def get_immediate_subdirectories(a_dir):\n",
    "    return [name for name in os.listdir(a_dir)\n",
    "            if os.path.isdir(os.path.join(a_dir, name))]"
   ]
  },
  {
   "cell_type": "code",
   "execution_count": 73,
   "metadata": {},
   "outputs": [],
   "source": [
    "def get_immediate_files(a_dir):\n",
    "    return [name for name in os.listdir(a_dir)\n",
    "            if os.path.isfile(os.path.join(a_dir, name))]"
   ]
  },
  {
   "cell_type": "code",
   "execution_count": 121,
   "metadata": {},
   "outputs": [
    {
     "name": "stdout",
     "output_type": "stream",
     "text": [
      "P5290732_Th_heterochromus_PuentoNazas.jpg                              Th_Heterochromus                                  \n",
      "P5290735_M_guelzowiana_PuentoNazas+.jpg                                M_guelzowiana                                     \n",
      "P6041149_Ec_straMINEUS_JOrtizDeDominquez.JPG                           Ec_Stramineus                                     \n",
      "P6041161_E_horizontalonius_ElPenal.JPG                                 E_Horizontalonius                                 \n",
      "P6041170_C_delaetiana_ElCebolla.JPG                                    C_Delaetiana                                      \n",
      "P6041194_Th_heterochromus_ElCebolla.JPG                                Th_Heterochromus                                  \n",
      "P6111367_A_retusus_LaPaloma.JPG                                        A_Retusus                                         \n",
      "P6151606_F_echidne_BustamanteTam.JPG                                   F_Echidne                                         \n",
      "P6151618_Ec_parkeri_BustamanteTam.JPG                                  Ec_Parkeri                                        \n",
      "P6151727_T_schmiedickeanus_Sandia.JPG                                  T_schmiedickeanus                                 \n",
      "P6181937_T_schmiedickeanus_PresaDelPinto.JPG                           T_schmiedickeanus                                 \n",
      "P6191967_Th_hex_PalosAlto.jpg                                          Th_Hex                                            \n",
      "P6202003_T_bonazii_SantoDomingo.JPG                                    T_Bonazii                                         \n",
      "P6202005_M_microthele_SantoDomingo.JPG                                 M_Microthele                                      \n",
      "P6202014_Ef_densispinus_EstDelCarmen.JPG                               Ef_Densispinus                                    \n",
      "P6202029_C_clavata_EstDelCarmen.JPG                                    C_clavata                                         \n",
      "P6202036_M_giganthea_EstDelCarmen.JPG                                  M_Giganthea                                       \n",
      "P6202057_C_georgii_SJoseDeMagana.JPG                                   C_Georgii                                         \n",
      "P6202074_M_zephyranthoides_SJoseDeMagana+.jpg                          M_Zephyranthoides                                 \n",
      "_wsb_352x432_P5290746_Ec_palmeri_VillaLosNieves.jpg                    C_palmeri                                         \n",
      "_wsb_352x432_P5290746_Ec_palmeri_VillaLosNieves.jpg                    Ec_Palmeri                                        \n",
      "_wsb_363x438_P5270618_Gl_uncinatus_ElEncinal_.jpg                      Gl_Uncinatus                                      \n",
      "_wsb_398x412_P6202037_F_histrix_EstDelCarmen.jpg                       F_Histrix                                         \n",
      "_wsb_400x380_P5250492_Ef_anfractuosus_ElPalmar.jpg                     Ef_Anfractuosus                                   \n",
      "_wsb_400x396_P6041185_M_heyderi_ElCebolla.jpg                          M_heyderi                                         \n",
      "_wsb_400x397_P6191973_T_pseudopectinatus_ElTepozan.jpg                 T_Pseudopectinatus                                \n",
      "_wsb_400x406_P6121421_Ep_unguispina_ElSalitre.jpg                      Ep_Unguispina                                     \n",
      "_wsb_402x376_P6151713_T_schmiedickeanus_Sandia.jpg                     T_schmiedickeanus                                 \n",
      "_wsb_402x382_P6111341_C_santarosa_LomasLosAngeles.jpg                  C_Santarosa                                       \n",
      "_wsb_402x385_P6181926_T_T_klinkerianus_mysakii_LazaroCardenas.jpg      T_klinkerianus                                    \n",
      "_wsb_402x390_P6202048_M_magnimamma_SJoseDeMagana.jpg                   M_magnimamma                                      \n",
      "_wsb_402x391_P6131466_A_trigonus_GenLucioBlanco.jpg                    A_Trigonus                                        \n",
      "_wsb_402x391_P6141594_C_octacantha_LasAntoniasTam.jpg                  C_Octacantha                                      \n",
      "_wsb_402x392_P5300775_M_saboae_Terrero.jpg                             M_saboae                                          \n",
      "_wsb_402x393_P6171832_Th_bicolor_SierraJicote.jpg                      Th_Bicolor                                        \n",
      "_wsb_402x394_P5280692_M_papasquirensis_Canatlan.jpg                    M_papasquirensis                                  \n",
      "_wsb_402x395_P6041137_Ec_dasyacanthus_rectispinus_JOrtizDeDominquez.jpg Ec_Dasyacanthus                                   \n",
      "_wsb_402x396_P6021031_C_recurvata_ElPinito.jpg                         C_recurvata                                       \n",
      "_wsb_402x400_P6010974_C_recurvata_SierraBuenosAires.jpg                C_recurvata                                       \n",
      "_wsb_402x411_P6101301_C_echinus_SanMiguel.jpg                          C_Echinus                                         \n",
      "_wsb_403x375_P5290722_M_theresae_ConettoPass.jpg                       M_Theresae                                        \n",
      "_wsb_403x379_P5270609_N_conoidea_MesaPalmarillo.jpg                    N_Conoidea                                        \n",
      "_wsb_403x384_P5250473_Ec_pulchellus_Huixmi.jpg                         Ec_Pulchellus                                     \n",
      "_wsb_403x386_P6111345_Esc_grata_LomasLosAngeles.jpg                    Esc_Grata                                         \n",
      "_wsb_403x391_P6212081_C_potosiana_SanAntonio.jpg                       C_Potosiana                                       \n",
      "_wsb_403x393_P5250498_Ef_anfractuosus_Deboxtha.jpg                     Ef_Anfractuosus                                   \n",
      "_wsb_403x394_P6101273_Op_violacea_LosArionesWP396.jpg                  Op_Violacea                                       \n",
      "_wsb_403x408_P6181907_Th_conothelos_Tula.jpg                           Th_Conothelos                                     \n",
      "_wsb_404x390_P5260590_Ec_cinerascens_VistaHermosa.jpg                  Ec_Cinerascens                                    \n",
      "_wsb_404x391_P5280633_C_palmeri_SanAntonioDeTrianaZac.jpg              C_palmeri                                         \n",
      "_wsb_404x393_P6101266_Ec_enneacanthus_PotreroDelLlano.jpg              Ec_Enneacanthus                                   \n",
      "_wsb_404x394_P6031103_Gl_uncinatus_LosMuertes.jpg                      Gl_Uncinatus                                      \n",
      "_wsb_404x396_P6151735_Ef_erectocentrus_Sandia.jpg                      Ef_Erectocentrus                                  \n",
      "_wsb_404x410_P6151709_Th_multicephalus_Sandia.jpg                      Th_Multicephalus                                  \n",
      "_wsb_404x466_P6041187_Ec_palmeri_ElCebolla+.jpg                        C_palmeri                                         \n",
      "_wsb_404x466_P6041187_Ec_palmeri_ElCebolla+.jpg                        Ec_Palmeri                                        \n",
      "_wsb_405x386_P5250471_M_vagaspina_Huixmi.jpg                           M_Vagaspina                                       \n",
      "_wsb_405x390_P6212082_C_potosiana_SanAntonio.jpg                       C_Potosiana                                       \n",
      "_wsb_406x379_P5280716_M_theresae_ConettoPass.jpg                       M_Theresae                                        \n",
      "_wsb_406x388_P6181927_T_T_klinkerianus_mysakii_LazaroCardenas.jpg      T_klinkerianus                                    \n",
      "_wsb_406x389_P6212077_Ec_pulchellus_venustus_SanAntonio.jpg            Ec_Pulchellus                                     \n",
      "_wsb_406x390_P6212075_Ec_pulchellus_venustus_SanAntonio.jpg            Ec_Pulchellus                                     \n",
      "_wsb_406x395_P6021032_C_recurvata_ElPinito.jpg                         C_recurvata                                       \n",
      "_wsb_406x407_P6151704_Th_multicephalus_Sandia.jpg                      Th_Multicephalus                                  \n",
      "_wsb_406x414_P6010953_C_recurvata_ElRodeo.jpg                          C_recurvata                                       \n",
      "_wsb_407x388_P6202071_habitat_M_zephyranthoides_SJoseDeMagana.jpg      M_Zephyranthoides                                 \n",
      "_wsb_407x395_P6161819_L_williamsii_SierraJicote.jpg                    L_Williamsii                                      \n",
      "_wsb_407x411_P6010958_C_recurvata_ElRodeo.jpg                          C_recurvata                                       \n",
      "_wsb_408x376_P6151724_T_schmiedickeanus_Sandia.jpg                     T_schmiedickeanus                                 \n",
      "_wsb_408x409_P6121435_Ep_unguispina_ElSalitre.jpg                      Ep_Unguispina                                     \n",
      "_wsb_409x391_P5300779_M_saboae_Terrero.jpg                             M_saboae                                          \n",
      "_wsb_409x412_P6101294_M_lasiacantha_LosAlamosWP397.jpg                 M_lasiacantha                                     \n",
      "_wsb_410x392_P6131478_A_asterias_RanchoLaTeresa.jpg                    A_Asterias                                        \n",
      "_wsb_411x391_P5280696_M_longiflora_Canatlan.jpg                        M_Longiflora                                      \n",
      "_wsb_411x397_P6041148_Ec_dasyacanthus_rectispinus_JOrtizDeDominquez.jpg Ec_Dasyacanthus                                   \n",
      "_wsb_412x383_P5250487_C_octacantha_ElPalmar.jpg                        C_Octacantha                                      \n",
      "_wsb_430x436_P5270607_M_lasiacantha_MesaPalmarillo.jpg                 M_lasiacantha                                     \n",
      "_wsb_439x433_P5290754_Th_heterochromus_VillaLosNieves.jpg              Th_Heterochromus                                  \n",
      "_wsb_503x473_P5290756_C_compacta_VillaLosNieves.jpg                    C_Compacta                                        \n",
      "_wsb_518x490_P6141554_O_denegriii_SanVincente.jpg                      O_denegrii                                        \n",
      "_wsb_519x528_P6111347_N_conoidea_LomasLosAngeles.jpg                   N_Conoidea                                        \n",
      "_wsb_520x452_P6181924_A_retusus_LazaroCardenas.jpg                     A_Retusus                                         \n",
      "_wsb_520x488_P6202008_C_wohlschlageri_SantoDomingo.jpg                 C_wohlschlageri                                   \n",
      "_wsb_520x492_P5290725_Ef_rectispinus_ConettoPass.jpg                   Ef_Rectispinus                                    \n",
      "_wsb_520x493_P6141549_M_viereckiii_SanVincente.jpg                     M_viereckii                                       \n",
      "_wsb_522x496_P6151743_Th_bueckii_LaSoledad.jpg                         Th_Bueckii                                        \n",
      "_wsb_522x511_P6151660_M_picta_LaJoya.jpg                               M_Picta                                           \n",
      "_wsb_523x491_P6191969_C_echinoidea_PalosAlto.jpg                       C_Echinoidea                                      \n"
     ]
    }
   ],
   "source": [
    "directory = '/Users/Kajetan/Documents/Cactusifier/res/Originals'\n",
    "files = '/Users/Kajetan/Desktop/Mex 2005' #Folder with unsorted files\n",
    "\n",
    "ExistingGenus = get_immediate_subdirectories(directory)\n",
    "ExistingGenus = [x.replace(' ', '_') for x in ExistingGenus]\n",
    "\n",
    "filesToSort = get_immediate_files(files)\n",
    "\n",
    "for f in filesToSort:\n",
    "    for g in ExistingGenus:\n",
    "        if g.lower() in f.lower():\n",
    "            print('{0:70s} {1:50s}'.format(f,g)) #USE THIS BEFORE moving files if you want to manually check correctness\n",
    "            #Uncomment next 2 lines to make the move\n",
    "            #print(f + ' ========was move to======== ' + g)\n",
    "            #shutil.move(\"/Users/Kajetan/Desktop/mex test/\"+f,\"/Users/Kajetan/Desktop/res test/\"+g+\"/\"+f)\n",
    "            "
   ]
  },
  {
   "cell_type": "code",
   "execution_count": null,
   "metadata": {},
   "outputs": [],
   "source": []
  }
 ],
 "metadata": {
  "kernelspec": {
   "display_name": "Python 3",
   "language": "python",
   "name": "python3"
  },
  "language_info": {
   "codemirror_mode": {
    "name": "ipython",
    "version": 3
   },
   "file_extension": ".py",
   "mimetype": "text/x-python",
   "name": "python",
   "nbconvert_exporter": "python",
   "pygments_lexer": "ipython3",
   "version": "3.7.0"
  }
 },
 "nbformat": 4,
 "nbformat_minor": 2
}
