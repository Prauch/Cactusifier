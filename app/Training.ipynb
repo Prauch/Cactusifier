{
 "cells": [
  {
   "cell_type": "code",
   "execution_count": 40,
   "metadata": {
    "collapsed": false
   },
   "outputs": [
    {
     "name": "stdout",
     "output_type": "stream",
     "text": [
      "80448 images\n"
     ]
    },
    {
     "data": {
      "text/plain": [
       "[('A Retusus', 3136),\n",
       " ('E Horiz', 2560),\n",
       " ('Th Bicolor', 2560),\n",
       " ('L Williamsii', 1792),\n",
       " ('A Kotsch', 1728),\n",
       " ('S Disciformis', 1728),\n",
       " ('R Beguinii', 1664),\n",
       " ('A Myriostigma', 1664),\n",
       " ('A valdezii', 1536),\n",
       " ('Th Heterochromus', 1472),\n",
       " ('N Conoidea', 1472),\n",
       " ('A Trigonus', 1408),\n",
       " ('Ef ochoterenaus', 1344),\n",
       " ('Lobivia pampana', 1280),\n",
       " ('E Horizontalonius', 1280),\n",
       " ('H Texensis', 1216),\n",
       " ('A lloydii', 1216),\n",
       " ('C Echinus', 1216),\n",
       " ('Thelocephala challensis', 1152),\n",
       " ('Th Multicephalus', 1152),\n",
       " ('Ep Greggii', 1152),\n",
       " ('T nikolae', 1152),\n",
       " ('N subgibbosa', 1088),\n",
       " ('M Candida', 1088),\n",
       " ('N senilis', 1088),\n",
       " ('A ritteri', 1088),\n",
       " ('T Valdezianus', 1088),\n",
       " ('Th Hex', 1024),\n",
       " ('A Fissuratus', 1024),\n",
       " ('Th lloydii', 1024),\n",
       " ('Thelocephala glabrescens', 960),\n",
       " ('A Coahuilense', 960),\n",
       " ('M lasiacantha', 960),\n",
       " ('Ec Pectinatus', 960),\n",
       " ('A scaphar', 960),\n",
       " ('M Formosa', 896),\n",
       " ('Ec Knippelianus', 896),\n",
       " ('H kunzei', 896),\n",
       " ('Ef Zacatecasensis', 896),\n",
       " ('Th Conothelos', 896),\n",
       " ('T Pseudopectinatus', 832),\n",
       " ('Th buekii', 832),\n",
       " ('T graminispinus', 832),\n",
       " ('Em mariposensis', 832),\n",
       " ('M Gummifera', 832),\n",
       " ('Th Argenteus', 832),\n",
       " ('Ep micromeris', 832),\n",
       " ('M perezdelarosae', 768),\n",
       " ('Th napina', 768),\n",
       " ('H heinrichianus', 768),\n",
       " ('M Picta', 768),\n",
       " ('Neoporteria chilensis', 768),\n",
       " ('M hermosana', 704),\n",
       " ('A Ornatum', 704),\n",
       " ('T krainzianus', 704),\n",
       " ('E ingens', 704),\n",
       " ('M jaliscana', 704),\n",
       " ('Horridocactus confinis', 704),\n",
       " ('Ef Coptonogonus', 704),\n",
       " ('R mandragora', 704),\n",
       " ('L alberto-vojtechii', 704),\n",
       " ('M andersoniana', 704),\n",
       " ('Th rinconensis', 704),\n",
       " ('Th tulensis', 704),\n",
       " ('Cylindropuntia', 704),\n",
       " ('L Principis', 640),\n",
       " ('M luethyi', 640),\n",
       " ('Ef spinosus', 640),\n",
       " ('H simulans', 640),\n",
       " ('Gl Uncinatus', 640),\n",
       " ('M wagneriana', 640),\n",
       " ('Em Unguispinus', 640),\n",
       " ('Ef Multicostatus', 640),\n",
       " ('T schmiedickeanus', 640),\n",
       " ('C recurvata', 640),\n",
       " ('A Asterias', 640),\n",
       " ('M densispina', 640),\n",
       " ('M Theresae', 640),\n",
       " ('C columna-alba', 640)]"
      ]
     },
     "execution_count": 40,
     "metadata": {},
     "output_type": "execute_result"
    }
   ],
   "source": [
    "import operator\n",
    "import cv2\n",
    "import numpy as np\n",
    "import os\n",
    "from random import shuffle\n",
    "from tqdm import tqdm\n",
    "\n",
    "TRAIN_DIR = '../res/Proper'\n",
    "IMG_SIZE_X = 160\n",
    "IMG_SIZE_Y = 120\n",
    "LR = 1e-3\n",
    "labels = os.listdir(TRAIN_DIR)\n",
    "LABELS_COUNT = len(labels)\n",
    "MODEL_NAME = 'cactusifier-{}-{}-8conv2filter.model'.format(LR, '2conv-basic')\n",
    "\n",
    "labelCounts = {}\n",
    "for directory in labels:\n",
    "    files = os.listdir(os.path.join(TRAIN_DIR, directory))\n",
    "    labelCounts[directory] = len(files)\n",
    "\n",
    "print(sum(labelCounts.values()), 'images')\n",
    "labelCounts = sorted(labelCounts.items(), key=operator.itemgetter(1), reverse = True)\n",
    "labelCounts"
   ]
  },
  {
   "cell_type": "code",
   "execution_count": 2,
   "metadata": {
    "collapsed": false
   },
   "outputs": [],
   "source": [
    "def get_hot_one_encoded_label(label):\n",
    "    h1e = np.zeros(LABELS_COUNT)\n",
    "    h1e[labels.index(label)] = 1\n",
    "    return h1e"
   ]
  },
  {
   "cell_type": "code",
   "execution_count": 3,
   "metadata": {
    "collapsed": true
   },
   "outputs": [],
   "source": [
    "def get_label_from_h1e(h1e):\n",
    "    index = np.where(h1e == 1)[0][0]\n",
    "    return labels[index]"
   ]
  },
  {
   "cell_type": "code",
   "execution_count": 4,
   "metadata": {
    "collapsed": false
   },
   "outputs": [],
   "source": [
    "def get_label_from_index(index):\n",
    "    return labels[index]"
   ]
  },
  {
   "cell_type": "code",
   "execution_count": 41,
   "metadata": {
    "collapsed": true
   },
   "outputs": [],
   "source": [
    "def create_train_data():\n",
    "    training_data = []\n",
    "    counter = 1\n",
    "    for directory in labels:\n",
    "        print(counter, directory)\n",
    "        labelDirectory = os.path.join(TRAIN_DIR, directory)\n",
    "        files = os.listdir(labelDirectory)\n",
    "        for img in files:\n",
    "            label = get_hot_one_encoded_label(directory)\n",
    "            path = os.path.join(labelDirectory, img)\n",
    "            try:\n",
    "                img = cv2.resize(cv2.imread(path, cv2.IMREAD_COLOR), (IMG_SIZE_X, IMG_SIZE_Y))\n",
    "            except Exception as e:\n",
    "                print(path)\n",
    "                print(str(e))\n",
    "            training_data.append([np.array(img), np.array(label)])\n",
    "        counter = counter + 1\n",
    "    print('Shuffling')\n",
    "    shuffle(training_data)\n",
    "    print('Saving')\n",
    "    #np.save('train_data.npy', training_data)\n",
    "    print('Done!')\n",
    "    return training_data"
   ]
  },
  {
   "cell_type": "code",
   "execution_count": 6,
   "metadata": {
    "collapsed": false,
    "scrolled": true
   },
   "outputs": [
    {
     "name": "stdout",
     "output_type": "stream",
     "text": [
      "1 A Asterias\n",
      "2 A Coahuilense\n",
      "3 A Fissuratus\n",
      "4 A Kotsch\n",
      "5 A lloydii\n",
      "6 A Myriostigma\n",
      "7 A Ornatum\n",
      "8 A Retusus\n",
      "9 A ritteri\n",
      "10 A scaphar\n",
      "11 A Trigonus\n",
      "12 A valdezii\n",
      "13 C columna-alba\n",
      "14 C Echinus\n",
      "15 C recurvata\n",
      "16 Cylindropuntia\n",
      "17 E Horiz\n",
      "18 E Horizontalonius\n",
      "19 E ingens\n",
      "20 Ec Knippelianus\n",
      "21 Ec Pectinatus\n",
      "22 Ef Coptonogonus\n",
      "23 Ef Multicostatus\n",
      "24 Ef ochoterenaus\n",
      "25 Ef spinosus\n",
      "26 Ef Zacatecasensis\n",
      "27 Em mariposensis\n",
      "28 Em Unguispinus\n",
      "29 Ep Greggii\n",
      "30 Ep micromeris\n",
      "31 Gl Uncinatus\n",
      "32 H heinrichianus\n",
      "33 H kunzei\n",
      "34 H simulans\n",
      "35 H Texensis\n",
      "36 Horridocactus confinis\n",
      "37 L alberto-vojtechii\n",
      "38 L Principis\n",
      "39 L Williamsii\n",
      "40 Lobivia pampana\n",
      "41 M andersoniana\n",
      "42 M Candida\n",
      "43 M densispina\n",
      "44 M Formosa\n",
      "45 M Gummifera\n",
      "46 M hermosana\n",
      "47 M jaliscana\n",
      "48 M lasiacantha\n",
      "49 M luethyi\n",
      "50 M perezdelarosae\n",
      "51 M Picta\n",
      "52 M Theresae\n",
      "53 M wagneriana\n",
      "54 N Conoidea\n",
      "55 N senilis\n",
      "56 N subgibbosa\n",
      "57 Neoporteria chilensis\n",
      "58 R Beguinii\n",
      "59 R mandragora\n",
      "60 S Disciformis\n",
      "61 T graminispinus\n",
      "62 T krainzianus\n",
      "63 T nikolae\n",
      "64 T Pseudopectinatus\n",
      "65 T schmiedickeanus\n",
      "66 T Valdezianus\n",
      "67 Th Argenteus\n",
      "68 Th Bicolor\n",
      "69 Th buekii\n",
      "70 Th Conothelos\n",
      "71 Th Heterochromus\n",
      "72 Th Hex\n",
      "73 Th lloydii\n",
      "74 Th Multicephalus\n",
      "75 Th napina\n",
      "76 Th rinconensis\n",
      "77 Th tulensis\n",
      "78 Thelocephala challensis\n",
      "79 Thelocephala glabrescens\n",
      "Shuffling\n",
      "Saving\n",
      "Done!\n"
     ]
    }
   ],
   "source": [
    "train_data = create_train_data()"
   ]
  },
  {
   "cell_type": "code",
   "execution_count": 42,
   "metadata": {
    "collapsed": false
   },
   "outputs": [],
   "source": [
    "import tflearn\n",
    "from tflearn.layers.conv import conv_2d, max_pool_2d\n",
    "from tflearn.layers.core import input_data, dropout, fully_connected\n",
    "from tflearn.layers.estimator import regression\n",
    "\n",
    "import tensorflow as tf\n",
    "tf.reset_default_graph()\n",
    "\n",
    "convnet = input_data(shape=[None, IMG_SIZE_X, IMG_SIZE_Y, 3], name='input')\n",
    "\n",
    "convnet = conv_2d(convnet, 32, 2, activation='relu')\n",
    "convnet = max_pool_2d(convnet, 2)\n",
    "\n",
    "convnet = conv_2d(convnet, 64, 2, activation='relu')\n",
    "convnet = max_pool_2d(convnet, 2)\n",
    "\n",
    "convnet = conv_2d(convnet, 32, 2, activation='relu')\n",
    "convnet = max_pool_2d(convnet, 2)\n",
    "\n",
    "convnet = conv_2d(convnet, 64, 2, activation='relu')\n",
    "convnet = max_pool_2d(convnet, 2)\n",
    "\n",
    "convnet = conv_2d(convnet, 32, 2, activation='relu')\n",
    "convnet = max_pool_2d(convnet, 2)\n",
    "\n",
    "convnet = conv_2d(convnet, 64, 2, activation='relu')\n",
    "convnet = max_pool_2d(convnet, 2)\n",
    "\n",
    "convnet = conv_2d(convnet, 32, 2, activation='relu')\n",
    "convnet = max_pool_2d(convnet, 2)\n",
    "\n",
    "convnet = conv_2d(convnet, 64, 2, activation='relu')\n",
    "convnet = max_pool_2d(convnet, 2)\n",
    "\n",
    "convnet = fully_connected(convnet, 1024, activation='relu')\n",
    "convnet = dropout(convnet, 0.8)\n",
    "\n",
    "convnet = fully_connected(convnet, LABELS_COUNT, activation='softmax')\n",
    "convnet = regression(convnet, optimizer='adam', learning_rate=LR, loss='categorical_crossentropy', name='targets')\n",
    "\n",
    "model = tflearn.DNN(convnet, tensorboard_dir='log')\n"
   ]
  },
  {
   "cell_type": "code",
   "execution_count": null,
   "metadata": {
    "collapsed": true
   },
   "outputs": [],
   "source": [
    "if os.path.exists('{}.meta'.format(MODEL_NAME)):\n",
    "    model.load(MODEL_NAME)\n",
    "    print(\"Model\", MODEL_NAME, \"loaded!\")"
   ]
  },
  {
   "cell_type": "code",
   "execution_count": 8,
   "metadata": {
    "collapsed": false
   },
   "outputs": [],
   "source": [
    "trainCountRatio = 0.8\n",
    "trainSize = int(round(len(train_data)*trainCountRatio))\n",
    "test = train_data[:-trainSize]\n",
    "train = train_data[-trainSize:]"
   ]
  },
  {
   "cell_type": "code",
   "execution_count": 9,
   "metadata": {
    "collapsed": false
   },
   "outputs": [],
   "source": [
    "X = np.array([i[0] for i in train]).reshape(-1, IMG_SIZE_X, IMG_SIZE_Y, 3)\n",
    "Y = [i[1] for i in train]\n",
    "\n",
    "test_x = np.array([i[0] for i in test]).reshape(-1, IMG_SIZE_X, IMG_SIZE_Y, 3)\n",
    "test_y = [i[1] for i in test]"
   ]
  },
  {
   "cell_type": "code",
   "execution_count": 43,
   "metadata": {
    "collapsed": false
   },
   "outputs": [
    {
     "name": "stdout",
     "output_type": "stream",
     "text": [
      "Training Step: 352099  | total loss: 0.45939 | time: 72.080s\n",
      "| Adam | epoch: 350 | loss: 0.45939 - acc: 0.9061 -- iter: 64320/64358\n",
      "Training Step: 352100  | total loss: 0.43384 | time: 80.223s\n",
      "| Adam | epoch: 350 | loss: 0.43384 - acc: 0.9092 | val_loss: 0.15320 - val_acc: 0.9509 -- iter: 64358/64358\n",
      "--\n",
      "---------------------------------\n",
      "Run id: cactusifier-0.001-2conv-basic-8conv2filter.model\n",
      "Log directory: log/\n"
     ]
    },
    {
     "ename": "KeyboardInterrupt",
     "evalue": "",
     "output_type": "error",
     "traceback": [
      "\u001b[1;31m---------------------------------------------------------------------------\u001b[0m",
      "\u001b[1;31mKeyboardInterrupt\u001b[0m                         Traceback (most recent call last)",
      "\u001b[1;32m<ipython-input-43-23552b24dfb5>\u001b[0m in \u001b[0;36m<module>\u001b[1;34m()\u001b[0m\n\u001b[0;32m      1\u001b[0m \u001b[1;32mfor\u001b[0m \u001b[0mi\u001b[0m \u001b[1;32min\u001b[0m \u001b[0mrange\u001b[0m\u001b[1;33m(\u001b[0m\u001b[1;36m100\u001b[0m\u001b[1;33m)\u001b[0m\u001b[1;33m:\u001b[0m\u001b[1;33m\u001b[0m\u001b[0m\n\u001b[0;32m      2\u001b[0m     model.fit({'input': X}, {'targets': Y}, n_epoch=5, validation_set=({'input': test_x}, {'targets': test_y}), \n\u001b[1;32m----> 3\u001b[1;33m         snapshot_step=500, show_metric=True, run_id=MODEL_NAME)\n\u001b[0m\u001b[0;32m      4\u001b[0m     \u001b[0mmodel\u001b[0m\u001b[1;33m.\u001b[0m\u001b[0msave\u001b[0m\u001b[1;33m(\u001b[0m\u001b[0mMODEL_NAME\u001b[0m\u001b[1;33m)\u001b[0m\u001b[1;33m\u001b[0m\u001b[0m\n",
      "\u001b[1;32mD:\\Programming\\Environments\\Anaconda3\\lib\\site-packages\\tflearn\\models\\dnn.py\u001b[0m in \u001b[0;36mfit\u001b[1;34m(self, X_inputs, Y_targets, n_epoch, validation_set, show_metric, batch_size, shuffle, snapshot_epoch, snapshot_step, excl_trainops, validation_batch_size, run_id, callbacks)\u001b[0m\n\u001b[0;32m    214\u001b[0m                          \u001b[0mexcl_trainops\u001b[0m\u001b[1;33m=\u001b[0m\u001b[0mexcl_trainops\u001b[0m\u001b[1;33m,\u001b[0m\u001b[1;33m\u001b[0m\u001b[0m\n\u001b[0;32m    215\u001b[0m                          \u001b[0mrun_id\u001b[0m\u001b[1;33m=\u001b[0m\u001b[0mrun_id\u001b[0m\u001b[1;33m,\u001b[0m\u001b[1;33m\u001b[0m\u001b[0m\n\u001b[1;32m--> 216\u001b[1;33m                          callbacks=callbacks)\n\u001b[0m\u001b[0;32m    217\u001b[0m \u001b[1;33m\u001b[0m\u001b[0m\n\u001b[0;32m    218\u001b[0m     \u001b[1;32mdef\u001b[0m \u001b[0mfit_batch\u001b[0m\u001b[1;33m(\u001b[0m\u001b[0mself\u001b[0m\u001b[1;33m,\u001b[0m \u001b[0mX_inputs\u001b[0m\u001b[1;33m,\u001b[0m \u001b[0mY_targets\u001b[0m\u001b[1;33m)\u001b[0m\u001b[1;33m:\u001b[0m\u001b[1;33m\u001b[0m\u001b[0m\n",
      "\u001b[1;32mD:\\Programming\\Environments\\Anaconda3\\lib\\site-packages\\tflearn\\helpers\\trainer.py\u001b[0m in \u001b[0;36mfit\u001b[1;34m(self, feed_dicts, n_epoch, val_feed_dicts, show_metric, snapshot_step, snapshot_epoch, shuffle_all, dprep_dict, daug_dict, excl_trainops, run_id, callbacks)\u001b[0m\n\u001b[0;32m    267\u001b[0m \u001b[1;33m\u001b[0m\u001b[0m\n\u001b[0;32m    268\u001b[0m             \u001b[0mfeed_dicts\u001b[0m \u001b[1;33m=\u001b[0m \u001b[0mto_list\u001b[0m\u001b[1;33m(\u001b[0m\u001b[0mfeed_dicts\u001b[0m\u001b[1;33m)\u001b[0m\u001b[1;33m\u001b[0m\u001b[0m\n\u001b[1;32m--> 269\u001b[1;33m             \u001b[1;32mfor\u001b[0m \u001b[0md\u001b[0m \u001b[1;32min\u001b[0m \u001b[0mfeed_dicts\u001b[0m\u001b[1;33m:\u001b[0m \u001b[0mstandarize_dict\u001b[0m\u001b[1;33m(\u001b[0m\u001b[0md\u001b[0m\u001b[1;33m)\u001b[0m\u001b[1;33m\u001b[0m\u001b[0m\n\u001b[0m\u001b[0;32m    270\u001b[0m             \u001b[0mval_feed_dicts\u001b[0m \u001b[1;33m=\u001b[0m \u001b[0mto_list\u001b[0m\u001b[1;33m(\u001b[0m\u001b[0mval_feed_dicts\u001b[0m\u001b[1;33m)\u001b[0m\u001b[1;33m\u001b[0m\u001b[0m\n\u001b[0;32m    271\u001b[0m             \u001b[1;32mif\u001b[0m \u001b[0mval_feed_dicts\u001b[0m\u001b[1;33m:\u001b[0m\u001b[1;33m\u001b[0m\u001b[0m\n",
      "\u001b[1;32mD:\\Programming\\Environments\\Anaconda3\\lib\\site-packages\\tflearn\\utils.py\u001b[0m in \u001b[0;36mstandarize_dict\u001b[1;34m(d)\u001b[0m\n\u001b[0;32m    158\u001b[0m     \u001b[1;32mfor\u001b[0m \u001b[0mkey\u001b[0m \u001b[1;32min\u001b[0m \u001b[0md\u001b[0m\u001b[1;33m:\u001b[0m\u001b[1;33m\u001b[0m\u001b[0m\n\u001b[0;32m    159\u001b[0m         \u001b[1;32mif\u001b[0m \u001b[0misinstance\u001b[0m\u001b[1;33m(\u001b[0m\u001b[0md\u001b[0m\u001b[1;33m[\u001b[0m\u001b[0mkey\u001b[0m\u001b[1;33m]\u001b[0m\u001b[1;33m,\u001b[0m \u001b[0mlist\u001b[0m\u001b[1;33m)\u001b[0m\u001b[1;33m:\u001b[0m\u001b[1;33m\u001b[0m\u001b[0m\n\u001b[1;32m--> 160\u001b[1;33m             \u001b[0md\u001b[0m\u001b[1;33m[\u001b[0m\u001b[0mkey\u001b[0m\u001b[1;33m]\u001b[0m \u001b[1;33m=\u001b[0m \u001b[0mnp\u001b[0m\u001b[1;33m.\u001b[0m\u001b[0masarray\u001b[0m\u001b[1;33m(\u001b[0m\u001b[0md\u001b[0m\u001b[1;33m[\u001b[0m\u001b[0mkey\u001b[0m\u001b[1;33m]\u001b[0m\u001b[1;33m)\u001b[0m\u001b[1;33m\u001b[0m\u001b[0m\n\u001b[0m\u001b[0;32m    161\u001b[0m \u001b[1;33m\u001b[0m\u001b[0m\n\u001b[0;32m    162\u001b[0m \u001b[1;33m\u001b[0m\u001b[0m\n",
      "\u001b[1;32mD:\\Programming\\Environments\\Anaconda3\\lib\\site-packages\\numpy\\core\\numeric.py\u001b[0m in \u001b[0;36masarray\u001b[1;34m(a, dtype, order)\u001b[0m\n\u001b[0;32m    499\u001b[0m \u001b[1;33m\u001b[0m\u001b[0m\n\u001b[0;32m    500\u001b[0m     \"\"\"\n\u001b[1;32m--> 501\u001b[1;33m     \u001b[1;32mreturn\u001b[0m \u001b[0marray\u001b[0m\u001b[1;33m(\u001b[0m\u001b[0ma\u001b[0m\u001b[1;33m,\u001b[0m \u001b[0mdtype\u001b[0m\u001b[1;33m,\u001b[0m \u001b[0mcopy\u001b[0m\u001b[1;33m=\u001b[0m\u001b[1;32mFalse\u001b[0m\u001b[1;33m,\u001b[0m \u001b[0morder\u001b[0m\u001b[1;33m=\u001b[0m\u001b[0morder\u001b[0m\u001b[1;33m)\u001b[0m\u001b[1;33m\u001b[0m\u001b[0m\n\u001b[0m\u001b[0;32m    502\u001b[0m \u001b[1;33m\u001b[0m\u001b[0m\n\u001b[0;32m    503\u001b[0m \u001b[1;33m\u001b[0m\u001b[0m\n",
      "\u001b[1;31mKeyboardInterrupt\u001b[0m: "
     ]
    }
   ],
   "source": [
    "for i in range(100):\n",
    "    model.fit({'input': X}, {'targets': Y}, n_epoch=5, validation_set=({'input': test_x}, {'targets': test_y}), \n",
    "        snapshot_step=500, show_metric=True, run_id=MODEL_NAME)\n",
    "    model.save(MODEL_NAME)"
   ]
  },
  {
   "cell_type": "code",
   "execution_count": 44,
   "metadata": {
    "collapsed": false
   },
   "outputs": [],
   "source": [
    "model.save(MODEL_NAME)"
   ]
  },
  {
   "cell_type": "code",
   "execution_count": 67,
   "metadata": {
    "collapsed": false
   },
   "outputs": [
    {
     "name": "stdout",
     "output_type": "stream",
     "text": [
      "L Williamsii 0.0%\n",
      "T Pseudopectinatus 0.0%\n",
      "H Texensis 0.0%\n",
      "A Retusus 0.01%\n",
      "A Myriostigma 99.99%\n"
     ]
    }
   ],
   "source": [
    "TEST_PATH = '../res/Test'\n",
    "TEST_SAMPLE_PATH = os.path.join(TEST_PATH, 'sdisciformis.jpg')\n",
    "testImage = np.array(cv2.resize(cv2.imread(TEST_SAMPLE_PATH, cv2.IMREAD_COLOR), (IMG_SIZE_X, IMG_SIZE_Y)))\n",
    "testImage = testImage.reshape(-1, IMG_SIZE_X, IMG_SIZE_Y, 3)\n",
    "result = model.predict(testImage)\n",
    "s = sorted(enumerate(result[0]), key=lambda x: x[1])\n",
    "bestMatches = s[-5:]\n",
    "for match in bestMatches:\n",
    "    print(get_label_from_index(match[0]), str(round(match[1]*100, 2)) + '%')"
   ]
  },
  {
   "cell_type": "code",
   "execution_count": 69,
   "metadata": {
    "collapsed": false
   },
   "outputs": [
    {
     "data": {
      "text/plain": [
       "5"
      ]
     },
     "execution_count": 69,
     "metadata": {},
     "output_type": "execute_result"
    }
   ],
   "source": [
    "bestMatches[4][0]"
   ]
  },
  {
   "cell_type": "code",
   "execution_count": 70,
   "metadata": {
    "collapsed": false
   },
   "outputs": [
    {
     "data": {
      "text/plain": [
       "['A Asterias',\n",
       " 'A Coahuilense',\n",
       " 'A Fissuratus',\n",
       " 'A Kotsch',\n",
       " 'A lloydii',\n",
       " 'A Myriostigma',\n",
       " 'A Ornatum',\n",
       " 'A Retusus',\n",
       " 'A ritteri',\n",
       " 'A scaphar',\n",
       " 'A Trigonus',\n",
       " 'A valdezii',\n",
       " 'C columna-alba',\n",
       " 'C Echinus',\n",
       " 'C recurvata',\n",
       " 'Cylindropuntia',\n",
       " 'E Horiz',\n",
       " 'E Horizontalonius',\n",
       " 'E ingens',\n",
       " 'Ec Knippelianus',\n",
       " 'Ec Pectinatus',\n",
       " 'Ef Coptonogonus',\n",
       " 'Ef Multicostatus',\n",
       " 'Ef ochoterenaus',\n",
       " 'Ef spinosus',\n",
       " 'Ef Zacatecasensis',\n",
       " 'Em mariposensis',\n",
       " 'Em Unguispinus',\n",
       " 'Ep Greggii',\n",
       " 'Ep micromeris',\n",
       " 'Gl Uncinatus',\n",
       " 'H heinrichianus',\n",
       " 'H kunzei',\n",
       " 'H simulans',\n",
       " 'H Texensis',\n",
       " 'Horridocactus confinis',\n",
       " 'L alberto-vojtechii',\n",
       " 'L Principis',\n",
       " 'L Williamsii',\n",
       " 'Lobivia pampana',\n",
       " 'M andersoniana',\n",
       " 'M Candida',\n",
       " 'M densispina',\n",
       " 'M Formosa',\n",
       " 'M Gummifera',\n",
       " 'M hermosana',\n",
       " 'M jaliscana',\n",
       " 'M lasiacantha',\n",
       " 'M luethyi',\n",
       " 'M perezdelarosae',\n",
       " 'M Picta',\n",
       " 'M Theresae',\n",
       " 'M wagneriana',\n",
       " 'N Conoidea',\n",
       " 'N senilis',\n",
       " 'N subgibbosa',\n",
       " 'Neoporteria chilensis',\n",
       " 'R Beguinii',\n",
       " 'R mandragora',\n",
       " 'S Disciformis',\n",
       " 'T graminispinus',\n",
       " 'T krainzianus',\n",
       " 'T nikolae',\n",
       " 'T Pseudopectinatus',\n",
       " 'T schmiedickeanus',\n",
       " 'T Valdezianus',\n",
       " 'Th Argenteus',\n",
       " 'Th Bicolor',\n",
       " 'Th buekii',\n",
       " 'Th Conothelos',\n",
       " 'Th Heterochromus',\n",
       " 'Th Hex',\n",
       " 'Th lloydii',\n",
       " 'Th Multicephalus',\n",
       " 'Th napina',\n",
       " 'Th rinconensis',\n",
       " 'Th tulensis',\n",
       " 'Thelocephala challensis',\n",
       " 'Thelocephala glabrescens']"
      ]
     },
     "execution_count": 70,
     "metadata": {},
     "output_type": "execute_result"
    }
   ],
   "source": [
    "labels"
   ]
  },
  {
   "cell_type": "code",
   "execution_count": null,
   "metadata": {
    "collapsed": false
   },
   "outputs": [],
   "source": [
    "#tensorboard --logdir=foo:E:\\Programming\\Python\\Cactusifier\\app\\log"
   ]
  }
 ],
 "metadata": {
  "anaconda-cloud": {},
  "kernelspec": {
   "display_name": "Python [Root]",
   "language": "python",
   "name": "Python [Root]"
  },
  "language_info": {
   "codemirror_mode": {
    "name": "ipython",
    "version": 3
   },
   "file_extension": ".py",
   "mimetype": "text/x-python",
   "name": "python",
   "nbconvert_exporter": "python",
   "pygments_lexer": "ipython3",
   "version": "3.5.2"
  }
 },
 "nbformat": 4,
 "nbformat_minor": 0
}
