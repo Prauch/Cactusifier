{
 "cells": [
  {
   "cell_type": "code",
   "execution_count": 1,
   "metadata": {},
   "outputs": [
    {
     "name": "stdout",
     "output_type": "stream",
     "text": [
      "1427 images\n"
     ]
    },
    {
     "data": {
      "text/plain": [
       "[('E Horizontalonius', 178),\n",
       " ('A Retusus', 175),\n",
       " ('A Myriostigma', 163),\n",
       " ('A Kotschoubeyanus', 156),\n",
       " ('Th Bicolor', 40),\n",
       " ('L Williamsii', 28),\n",
       " ('S Disciformis', 27),\n",
       " ('R Beguinii', 26),\n",
       " ('A valdezii', 24),\n",
       " ('C humilis', 24),\n",
       " ('H curvispinus', 23),\n",
       " ('N Conoidea', 23),\n",
       " ('Th Heterochromus', 23),\n",
       " ('A Trigonus', 22),\n",
       " ('H kunzei', 22),\n",
       " ('N subgibbosa', 22),\n",
       " ('Ef ochoterenaus', 21),\n",
       " ('H heinrichianus', 20),\n",
       " ('Lobivia pampana', 20),\n",
       " ('Th esmeraldana', 20),\n",
       " ('A lloydii', 19),\n",
       " ('C Echinus', 19),\n",
       " ('Ep Greggii', 19),\n",
       " ('H limariensis', 19),\n",
       " ('H Texensis', 19),\n",
       " ('T nikolae', 18),\n",
       " ('Th Multicephalus', 18),\n",
       " ('Thelocephala challensis', 18),\n",
       " ('A ritteri', 17),\n",
       " ('M Candida', 17),\n",
       " ('N senilis', 17),\n",
       " ('T Valdezianus', 17),\n",
       " ('A Fissuratus', 16),\n",
       " ('Th Hex', 16),\n",
       " ('Th lloydii', 16),\n",
       " ('A Coahuilense', 15),\n",
       " ('A scaphar', 15),\n",
       " ('Ec Pectinatus', 15),\n",
       " ('H taltalensis', 15),\n",
       " ('M lasiacantha', 15),\n",
       " ('Th napina', 15),\n",
       " ('Thelocephala glabrescens', 15)]"
      ]
     },
     "execution_count": 1,
     "metadata": {},
     "output_type": "execute_result"
    }
   ],
   "source": [
    "import operator\n",
    "import cv2\n",
    "import numpy as np\n",
    "import os\n",
    "from random import shuffle\n",
    "from tqdm import tqdm\n",
    "\n",
    "TRAIN_DIR = '../res/Proper'\n",
    "MODELS_DIR = '/Models'\n",
    "IMG_SIZE_X = 224\n",
    "IMG_SIZE_Y = 224\n",
    "LR = 1e-3\n",
    "labels = os.listdir(TRAIN_DIR)\n",
    "LABELS_COUNT = len(labels)\n",
    "MODEL_NAME = 'resnet-cactusifier-{}-{}-{}-12conv2filter2size-02.model'.format(LR, '2conv-basic','treshold_60')\n",
    "\n",
    "labelCounts = {}\n",
    "for directory in labels:\n",
    "    files = os.listdir(os.path.join(TRAIN_DIR, directory))\n",
    "    labelCounts[directory] = len(files)\n",
    "\n",
    "print(sum(labelCounts.values()), 'images')\n",
    "labelCounts = sorted(labelCounts.items(), key=operator.itemgetter(1), reverse = True)\n",
    "labelCounts"
   ]
  },
  {
   "cell_type": "code",
   "execution_count": 2,
   "metadata": {},
   "outputs": [],
   "source": [
    "def get_hot_one_encoded_label(label):\n",
    "    h1e = np.zeros(LABELS_COUNT)\n",
    "    h1e[labels.index(label)] = 1\n",
    "    return h1e"
   ]
  },
  {
   "cell_type": "code",
   "execution_count": 3,
   "metadata": {},
   "outputs": [],
   "source": [
    "def get_label_from_h1e(h1e):\n",
    "    index = np.where(h1e == 1)[0][0]\n",
    "    return labels[index]"
   ]
  },
  {
   "cell_type": "code",
   "execution_count": 4,
   "metadata": {},
   "outputs": [],
   "source": [
    "def get_label_from_index(index):\n",
    "    return labels[index]"
   ]
  },
  {
   "cell_type": "code",
   "execution_count": 5,
   "metadata": {},
   "outputs": [],
   "source": [
    "def create_train_data():\n",
    "    training_data = []\n",
    "    counter = 0\n",
    "    for directory in labels:\n",
    "        print(counter, directory)\n",
    "        labelDirectory = os.path.join(TRAIN_DIR, directory)\n",
    "        files = os.listdir(labelDirectory)\n",
    "        for img in files:\n",
    "            label = get_hot_one_encoded_label(directory)\n",
    "            path = os.path.join(labelDirectory, img)\n",
    "            try:\n",
    "                img = cv2.resize(cv2.imread(path, cv2.IMREAD_COLOR), (IMG_SIZE_X, IMG_SIZE_Y))\n",
    "            except Exception as e:\n",
    "                print(path)\n",
    "                print(str(e))\n",
    "            training_data.append([np.array(img), np.array(label)])\n",
    "            #training_data.append([np.divide(np.array(img), 255), np.array(label)])\n",
    "        counter = counter + 1\n",
    "    print('Shuffling')\n",
    "    shuffle(training_data)\n",
    "    print('Saving')\n",
    "    #np.save('train_data.npy', training_data)\n",
    "    print('Done!')\n",
    "    return training_data"
   ]
  },
  {
   "cell_type": "code",
   "execution_count": 6,
   "metadata": {
    "scrolled": true
   },
   "outputs": [
    {
     "name": "stdout",
     "output_type": "stream",
     "text": [
      "0 A Kotschoubeyanus\n",
      "1 A Myriostigma\n",
      "2 A Retusus\n",
      "3 E Horizontalonius\n",
      "Shuffling\n",
      "Saving\n",
      "Done!\n"
     ]
    }
   ],
   "source": [
    "train_data = create_train_data()"
   ]
  },
  {
   "cell_type": "code",
   "execution_count": null,
   "metadata": {},
   "outputs": [],
   "source": [
    "import tflearn\n",
    "from tflearn.layers.conv import conv_2d, max_pool_2d\n",
    "from tflearn.layers.core import input_data, dropout, fully_connected\n",
    "from tflearn.layers.estimator import regression\n",
    "\n",
    "import tensorflow as tf\n",
    "tf.reset_default_graph()\n",
    "\n",
    "convnet = input_data(shape=[None, IMG_SIZE_X, IMG_SIZE_Y, 3], name='input')\n",
    "\n",
    "convnet = conv_2d(convnet, 32, 2, activation='relu')\n",
    "convnet = max_pool_2d(convnet, 2)\n",
    "\n",
    "convnet = conv_2d(convnet, 64, 2, activation='relu')\n",
    "convnet = max_pool_2d(convnet, 2)\n",
    "\n",
    "convnet = conv_2d(convnet, 32, 2, activation='relu')\n",
    "convnet = max_pool_2d(convnet, 2)\n",
    "\n",
    "convnet = conv_2d(convnet, 64, 2, activation='relu')\n",
    "convnet = max_pool_2d(convnet, 2)\n",
    "\n",
    "convnet = conv_2d(convnet, 32, 2, activation='relu')\n",
    "convnet = max_pool_2d(convnet, 2)\n",
    "\n",
    "convnet = conv_2d(convnet, 64, 2, activation='relu')\n",
    "convnet = max_pool_2d(convnet, 2)\n",
    "\n",
    "convnet = conv_2d(convnet, 32, 2, activation='relu')\n",
    "convnet = max_pool_2d(convnet, 2)\n",
    "\n",
    "convnet = conv_2d(convnet, 64, 2, activation='relu')\n",
    "convnet = max_pool_2d(convnet, 2)\n",
    "\n",
    "convnet = conv_2d(convnet, 32, 2, activation='relu')\n",
    "convnet = max_pool_2d(convnet, 2)\n",
    "\n",
    "convnet = conv_2d(convnet, 64, 2, activation='relu')\n",
    "convnet = max_pool_2d(convnet, 2)\n",
    "\n",
    "convnet = conv_2d(convnet, 32, 2, activation='relu')\n",
    "convnet = max_pool_2d(convnet, 2)\n",
    "\n",
    "convnet = conv_2d(convnet, 64, 2, activation='relu')\n",
    "convnet = max_pool_2d(convnet, 2)\n",
    "\n",
    "convnet = fully_connected(convnet, 1024, activation='relu')\n",
    "convnet = dropout(convnet, 0.8)\n",
    "\n",
    "convnet = fully_connected(convnet, LABELS_COUNT, activation='softmax')\n",
    "convnet = regression(convnet, optimizer='adam', learning_rate=LR, loss='categorical_crossentropy', name='targets')\n",
    "\n",
    "model = tflearn.DNN(convnet, tensorboard_dir='log')\n"
   ]
  },
  {
   "cell_type": "code",
   "execution_count": null,
   "metadata": {},
   "outputs": [],
   "source": [
    "if os.path.exists('{}.meta'.format(MODEL_NAME)):\n",
    "    model.load(MODEL_NAME)\n",
    "    print(\"Model\", MODEL_NAME, \"loaded!\")"
   ]
  },
  {
   "cell_type": "code",
   "execution_count": null,
   "metadata": {},
   "outputs": [],
   "source": [
    "trainCountRatio = 0.8\n",
    "trainSize = int(round(len(train_data)*trainCountRatio))\n",
    "test = train_data[:-trainSize]\n",
    "train = train_data[-trainSize:]"
   ]
  },
  {
   "cell_type": "code",
   "execution_count": null,
   "metadata": {},
   "outputs": [],
   "source": [
    "X = np.array([i[0] for i in train]).reshape(-1, IMG_SIZE_X, IMG_SIZE_Y, 3)\n",
    "Y = [i[1] for i in train]\n",
    "\n",
    "test_x = np.array([i[0] for i in test]).reshape(-1, IMG_SIZE_X, IMG_SIZE_Y, 3)\n",
    "test_y = [i[1] for i in test]"
   ]
  },
  {
   "cell_type": "code",
   "execution_count": null,
   "metadata": {},
   "outputs": [],
   "source": [
    "for i in range(300):\n",
    "    model.fit({'input': X}, {'targets': Y}, n_epoch=10, validation_set=({'input': test_x}, {'targets': test_y}), \n",
    "        snapshot_step=500, show_metric=True, run_id=MODEL_NAME)\n",
    "    model.save(MODEL_NAME)\n",
    "\n",
    "##################################"
   ]
  },
  {
   "cell_type": "code",
   "execution_count": null,
   "metadata": {},
   "outputs": [],
   "source": [
    "model.save(MODEL_NAME)"
   ]
  },
  {
   "cell_type": "code",
   "execution_count": null,
   "metadata": {},
   "outputs": [],
   "source": [
    "TEST_PATH = '../res/Test'\n",
    "TEST_SAMPLE_PATH = os.path.join(TEST_PATH, 'myriostigma.jpg')\n",
    "testImage = np.array(cv2.resize(cv2.imread(TEST_SAMPLE_PATH, cv2.IMREAD_COLOR), (IMG_SIZE_X, IMG_SIZE_Y)))\n",
    "#testImage = np.divide(np.array(cv2.resize(cv2.imread(TEST_SAMPLE_PATH, cv2.IMREAD_COLOR), (IMG_SIZE_X, IMG_SIZE_Y))), 255)\n",
    "testImage = testImage.reshape(-1, IMG_SIZE_X, IMG_SIZE_Y, 3)\n",
    "result = model.predict(testImage)\n",
    "s = sorted(enumerate(result[0]), key=lambda x: x[1])\n",
    "bestMatches = s[-5:]\n",
    "for match in bestMatches:\n",
    "    print(get_label_from_index(match[0]), str(round(match[1]*100, 2)) + '%')"
   ]
  },
  {
   "cell_type": "code",
   "execution_count": null,
   "metadata": {},
   "outputs": [],
   "source": [
    "#tensorboard --logdir=foo:E:\\Programming\\Python\\Cactusifier\\app\\log"
   ]
  },
  {
   "cell_type": "code",
   "execution_count": null,
   "metadata": {},
   "outputs": [],
   "source": []
  },
  {
   "cell_type": "code",
   "execution_count": null,
   "metadata": {},
   "outputs": [],
   "source": []
  }
 ],
 "metadata": {
  "anaconda-cloud": {},
  "kernelspec": {
   "display_name": "Python 3",
   "language": "python",
   "name": "python3"
  },
  "language_info": {
   "codemirror_mode": {
    "name": "ipython",
    "version": 3
   },
   "file_extension": ".py",
   "mimetype": "text/x-python",
   "name": "python",
   "nbconvert_exporter": "python",
   "pygments_lexer": "ipython3",
   "version": "3.6.8"
  }
 },
 "nbformat": 4,
 "nbformat_minor": 1
}
