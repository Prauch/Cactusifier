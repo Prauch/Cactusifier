{
 "cells": [
  {
   "cell_type": "code",
   "execution_count": null,
   "metadata": {
    "collapsed": false
   },
   "outputs": [],
   "source": [
    "import operator\n",
    "import cv2\n",
    "import numpy as np\n",
    "import os\n",
    "from random import shuffle\n",
    "from tqdm import tqdm\n",
    "\n",
    "TRAIN_DIR = '../res/Proper'\n",
    "IMG_SIZE_X = 160\n",
    "IMG_SIZE_Y = 120\n",
    "LR = 1e-3\n",
    "labels = os.listdir(TRAIN_DIR)\n",
    "LABELS_COUNT = len(labels)\n",
    "MODEL_NAME = 'cactusifier-{}-{}.model'.format(LR, '2conv-basic')\n",
    "\n",
    "labelCounts = {}\n",
    "for directory in labels:\n",
    "    files = os.listdir(os.path.join(TRAIN_DIR, directory))\n",
    "    labelCounts[directory] = len(files)\n",
    "\n",
    "print(sum(labelCounts.values()), 'images')\n",
    "labelCounts = sorted(labelCounts.items(), key=operator.itemgetter(1), reverse = True)\n",
    "labelCounts"
   ]
  },
  {
   "cell_type": "code",
   "execution_count": null,
   "metadata": {
    "collapsed": false
   },
   "outputs": [],
   "source": [
    "def get_hot_one_encoded_label(label):\n",
    "    h1e = np.zeros(LABELS_COUNT)\n",
    "    h1e[labels.index(label)] = 1\n",
    "    return h1e"
   ]
  },
  {
   "cell_type": "code",
   "execution_count": null,
   "metadata": {
    "collapsed": true
   },
   "outputs": [],
   "source": [
    "def get_label_from_h1e(h1e):\n",
    "    index = np.where(h1e == 1)[0][0]\n",
    "    return labels[index]"
   ]
  },
  {
   "cell_type": "code",
   "execution_count": null,
   "metadata": {
    "collapsed": false
   },
   "outputs": [],
   "source": [
    "def get_label_from_index(index):\n",
    "    return labels[index]"
   ]
  },
  {
   "cell_type": "code",
   "execution_count": null,
   "metadata": {
    "collapsed": true
   },
   "outputs": [],
   "source": [
    "def create_train_data():\n",
    "    training_data = []\n",
    "    counter = 1\n",
    "    for directory in labels:\n",
    "        print(counter, directory)\n",
    "        labelDirectory = os.path.join(TRAIN_DIR, directory)\n",
    "        files = os.listdir(labelDirectory)\n",
    "        for img in files:\n",
    "            label = get_hot_one_encoded_label(directory)\n",
    "            path = os.path.join(labelDirectory, img)\n",
    "            try:\n",
    "                img = cv2.resize(cv2.imread(path, cv2.IMREAD_COLOR), (IMG_SIZE_X, IMG_SIZE_Y))\n",
    "            except Exception as e:\n",
    "                print(path)\n",
    "                print(str(e))\n",
    "            training_data.append([np.array(img), np.array(label)])\n",
    "        counter = counter + 1\n",
    "    print('Shuffling')\n",
    "    shuffle(training_data)\n",
    "    print('Saving')\n",
    "    #np.save('train_data.npy', training_data)\n",
    "    print('Done!')\n",
    "    return training_data"
   ]
  },
  {
   "cell_type": "code",
   "execution_count": null,
   "metadata": {
    "collapsed": false,
    "scrolled": true
   },
   "outputs": [],
   "source": [
    "train_data = create_train_data()"
   ]
  },
  {
   "cell_type": "code",
   "execution_count": null,
   "metadata": {
    "collapsed": false
   },
   "outputs": [],
   "source": [
    "import tflearn\n",
    "from tflearn.layers.conv import conv_2d, max_pool_2d\n",
    "from tflearn.layers.core import input_data, dropout, fully_connected\n",
    "from tflearn.layers.estimator import regression\n",
    "\n",
    "import tensorflow as tf\n",
    "tf.reset_default_graph()\n",
    "\n",
    "convnet = input_data(shape=[None, IMG_SIZE_X, IMG_SIZE_Y, 3], name='input')\n",
    "\n",
    "convnet = conv_2d(convnet, 32, 2, activation='relu')\n",
    "convnet = max_pool_2d(convnet, 2)\n",
    "\n",
    "convnet = conv_2d(convnet, 64, 2, activation='relu')\n",
    "convnet = max_pool_2d(convnet, 2)\n",
    "\n",
    "convnet = conv_2d(convnet, 32, 2, activation='relu')\n",
    "convnet = max_pool_2d(convnet, 2)\n",
    "\n",
    "convnet = conv_2d(convnet, 64, 2, activation='relu')\n",
    "convnet = max_pool_2d(convnet, 2)\n",
    "\n",
    "convnet = conv_2d(convnet, 32, 2, activation='relu')\n",
    "convnet = max_pool_2d(convnet, 2)\n",
    "\n",
    "convnet = conv_2d(convnet, 64, 2, activation='relu')\n",
    "convnet = max_pool_2d(convnet, 2)\n",
    "\n",
    "convnet = fully_connected(convnet, 1024, activation='relu')\n",
    "convnet = dropout(convnet, 0.8)\n",
    "\n",
    "convnet = fully_connected(convnet, LABELS_COUNT, activation='softmax')\n",
    "convnet = regression(convnet, optimizer='adam', learning_rate=LR, loss='categorical_crossentropy', name='targets')\n",
    "\n",
    "model = tflearn.DNN(convnet, tensorboard_dir='log')\n"
   ]
  },
  {
   "cell_type": "code",
   "execution_count": null,
   "metadata": {
    "collapsed": false
   },
   "outputs": [],
   "source": [
    "if os.path.exists('{}.meta'.format(MODEL_NAME)):\n",
    "    model.load(MODEL_NAME)\n",
    "    print(\"Model\", MODEL_NAME, \"loaded!\")"
   ]
  },
  {
   "cell_type": "code",
   "execution_count": null,
   "metadata": {
    "collapsed": false
   },
   "outputs": [],
   "source": [
    "trainCountRatio = 0.8\n",
    "trainSize = int(round(len(train_data)*trainCountRatio))\n",
    "test = train_data[:-trainSize]\n",
    "train = train_data[-trainSize:]"
   ]
  },
  {
   "cell_type": "code",
   "execution_count": null,
   "metadata": {
    "collapsed": false
   },
   "outputs": [],
   "source": [
    "X = np.array([i[0] for i in train]).reshape(-1, IMG_SIZE_X, IMG_SIZE_Y, 3)\n",
    "Y = [i[1] for i in train]\n",
    "\n",
    "test_x = np.array([i[0] for i in test]).reshape(-1, IMG_SIZE_X, IMG_SIZE_Y, 3)\n",
    "test_y = [i[1] for i in test]"
   ]
  },
  {
   "cell_type": "code",
   "execution_count": null,
   "metadata": {
    "collapsed": false
   },
   "outputs": [],
   "source": [
    "model.fit({'input': X}, {'targets': Y}, n_epoch=15, validation_set=({'input': test_x}, {'targets': test_y}), \n",
    "    snapshot_step=500, show_metric=True, run_id=MODEL_NAME)"
   ]
  },
  {
   "cell_type": "code",
   "execution_count": null,
   "metadata": {
    "collapsed": false
   },
   "outputs": [],
   "source": [
    "model.save(MODEL_NAME)"
   ]
  },
  {
   "cell_type": "code",
   "execution_count": null,
   "metadata": {
    "collapsed": false
   },
   "outputs": [],
   "source": [
    "testImage = np.array(cv2.resize(cv2.imread('T01.jpg', cv2.IMREAD_COLOR), (IMG_SIZE_X, IMG_SIZE_Y)))\n",
    "testImage = testImage.reshape(-1, IMG_SIZE_X, IMG_SIZE_Y, 3)\n",
    "result = model.predict(testImage)\n",
    "labels[np.argmax(result)]\n"
   ]
  },
  {
   "cell_type": "code",
   "execution_count": null,
   "metadata": {
    "collapsed": false
   },
   "outputs": [],
   "source": [
    "s = sorted(enumerate(result[0]), key=lambda x: x[1])\n",
    "for probability in s:\n",
    "    print(get_label_from_index(probability[0]))"
   ]
  },
  {
   "cell_type": "code",
   "execution_count": null,
   "metadata": {
    "collapsed": false
   },
   "outputs": [],
   "source": [
    "#tensorboard --logdir=foo:E:\\Programming\\Python\\Cactusifier\\app\\log"
   ]
  }
 ],
 "metadata": {
  "anaconda-cloud": {},
  "kernelspec": {
   "display_name": "Python [Root]",
   "language": "python",
   "name": "Python [Root]"
  },
  "language_info": {
   "codemirror_mode": {
    "name": "ipython",
    "version": 3
   },
   "file_extension": ".py",
   "mimetype": "text/x-python",
   "name": "python",
   "nbconvert_exporter": "python",
   "pygments_lexer": "ipython3",
   "version": "3.5.2"
  }
 },
 "nbformat": 4,
 "nbformat_minor": 0
}
