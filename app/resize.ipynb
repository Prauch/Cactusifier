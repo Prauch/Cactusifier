{
 "cells": [
  {
   "cell_type": "code",
   "execution_count": 38,
   "metadata": {},
   "outputs": [],
   "source": [
    "import os, cv2 as cv\n"
   ]
  },
  {
   "cell_type": "code",
   "execution_count": 126,
   "metadata": {
    "scrolled": true
   },
   "outputs": [
    {
     "name": "stdout",
     "output_type": "stream",
     "text": [
      "/Users/wojciechprazuch/temp/Originals\n",
      "Originals\n"
     ]
    }
   ],
   "source": [
    "directory = '/Users/wojciechprazuch/temp/Originals'\n",
    "directoryToCopy = '/Users/wojciechprazuch/temp/Processed'\n",
    "allDirs = os.walk(directory)\n",
    "allDirsList = list(allDirs)\n",
    "currentDir = allDirsList[0][0]\n",
    "print(currentDir)\n",
    "print(os.path.basename(currentDir))\n",
    "\n",
    "images = allDirsList\n",
    "#print(images)"
   ]
  },
  {
   "cell_type": "code",
   "execution_count": 136,
   "metadata": {},
   "outputs": [],
   "source": [
    "def resizeImages(path, pathToCopy):\n",
    "    allDirsList = list(os.walk(path))\n",
    "    allDirsList = allDirsList[1:]\n",
    "    for directory in allDirsList:\n",
    "        currentDir = directory[0]\n",
    "        directoryName = os.path.basename(currentDir)\n",
    "        listImageFiles = directory[2]\n",
    "        for image in listImageFiles:\n",
    "            if image != '.DS_Store':\n",
    "                filename = os.path.join(currentDir, image)\n",
    "                oriimg = cv.imread(filename)\n",
    "                height, width, depth = oriimg.shape\n",
    "                if height > width:\n",
    "                    M = cv.getRotationMatrix2D((width/2, height/2), 90, 1)\n",
    "                    dst = cv.warpAffine(oriimg, M, (width, height))\n",
    "                newimg = cv.resize(oriimg,(int(160),int(120)))\n",
    "                newDirectory = os.path.join(pathToCopy, directoryName)\n",
    "                if not os.path.exists(newDirectory):\n",
    "                    os.makedirs(newDirectory)\n",
    "                newFileName = os.path.join(newDirectory, image)\n",
    "                cv2.imwrite(newFileName, newimg)"
   ]
  },
  {
   "cell_type": "code",
   "execution_count": 137,
   "metadata": {},
   "outputs": [],
   "source": [
    "resizeImages('/Users/wojciechprazuch/temp/Originals', '/USers/wojciechprazuch/temp/Processed')"
   ]
  },
  {
   "cell_type": "code",
   "execution_count": null,
   "metadata": {},
   "outputs": [],
   "source": []
  }
 ],
 "metadata": {
  "kernelspec": {
   "display_name": "Python 3",
   "language": "python",
   "name": "python3"
  },
  "language_info": {
   "codemirror_mode": {
    "name": "ipython",
    "version": 3
   },
   "file_extension": ".py",
   "mimetype": "text/x-python",
   "name": "python",
   "nbconvert_exporter": "python",
   "pygments_lexer": "ipython3",
   "version": "3.6.4"
  }
 },
 "nbformat": 4,
 "nbformat_minor": 2
}
