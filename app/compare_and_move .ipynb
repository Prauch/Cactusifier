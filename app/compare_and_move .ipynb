{
 "cells": [
  {
   "cell_type": "code",
   "execution_count": 38,
   "metadata": {},
   "outputs": [],
   "source": [
    "import os, cv2 as cv, shutil,re"
   ]
  },
  {
   "cell_type": "code",
   "execution_count": 39,
   "metadata": {},
   "outputs": [],
   "source": [
    "def get_immediate_subdirectories(a_dir):\n",
    "    return [name for name in os.listdir(a_dir)\n",
    "            if os.path.isdir(os.path.join(a_dir, name))]"
   ]
  },
  {
   "cell_type": "code",
   "execution_count": 40,
   "metadata": {},
   "outputs": [],
   "source": [
    "def get_immediate_files(a_dir):\n",
    "    return [name for name in os.listdir(a_dir)\n",
    "            if os.path.isfile(os.path.join(a_dir, name))]"
   ]
  },
  {
   "cell_type": "code",
   "execution_count": 41,
   "metadata": {},
   "outputs": [],
   "source": [
    "def hasNumbers(inputString):\n",
    "       return any(char.isdigit() for char in inputString)"
   ]
  },
  {
   "cell_type": "code",
   "execution_count": 42,
   "metadata": {},
   "outputs": [],
   "source": [
    "directory = '/Users/Kajetan/Documents/Cactusifier/res/Originals'\n",
    "files = '/Users/Kajetan/Desktop/resources' #Folder with unsorted files\n",
    "\n",
    "ExistingGenus = get_immediate_subdirectories(directory)\n",
    "ExistingGenus = [x.replace(' ', '_') for x in ExistingGenus]\n",
    "\n",
    "filesToSort = get_immediate_files(files)\n",
    "\n",
    "for f in filesToSort:\n",
    "    for g in ExistingGenus:\n",
    "         if '_'+g.lower() in f.lower():\n",
    "            g = g.replace('_',' ')\n",
    "            #print('{0:70s} {1:50s}'.format(f,g)) #USE THIS BEFORE moving files if you want to manually check correctness\n",
    "            #Uncomment next 2 lines to make the move\n",
    "            #print(f + ' ========was moved to======== ' + g)\n",
    "            shutil.move(files+\"/\"+f,directory+\"/\"+g+\"/\"+f)\n",
    "    \n",
    "#FILES THAT ARE NOT EASILY CATEGORIZED WILL BE CLEARED SO THEY ORDER ALPHABETICALLY    \n",
    "for f in filesToSort:\n",
    "    tempList=re.split('_|\\.',f)\n",
    "    correctedList = [t for t in tempList if not ((t == 'wsb') or (t.lower() == 'jpg') or (hasNumbers(t)) or (not t))]\n",
    "    correctedList.insert(len(correctedList),str(filesToSort.index(f)))\n",
    "    newFileName = '_'.join(correctedList)\n",
    "    #print(correctedList)\n",
    "    os.rename(files+\"/\"+f,files+\"/\"+newFileName+'.jpg')\n",
    "\n",
    "            "
   ]
  },
  {
   "cell_type": "code",
   "execution_count": null,
   "metadata": {},
   "outputs": [],
   "source": []
  },
  {
   "cell_type": "code",
   "execution_count": null,
   "metadata": {},
   "outputs": [],
   "source": []
  },
  {
   "cell_type": "code",
   "execution_count": null,
   "metadata": {},
   "outputs": [],
   "source": []
  }
 ],
 "metadata": {
  "kernelspec": {
   "display_name": "Python 3",
   "language": "python",
   "name": "python3"
  },
  "language_info": {
   "codemirror_mode": {
    "name": "ipython",
    "version": 3
   },
   "file_extension": ".py",
   "mimetype": "text/x-python",
   "name": "python",
   "nbconvert_exporter": "python",
   "pygments_lexer": "ipython3",
   "version": "3.7.1rc2"
  }
 },
 "nbformat": 4,
 "nbformat_minor": 2
}
