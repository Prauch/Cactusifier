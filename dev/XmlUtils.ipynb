{
 "cells": [
  {
   "cell_type": "markdown",
   "metadata": {},
   "source": [
    "## For creating xml file which maps photo with a cactus type\n",
    "This function will help to create a template for mapping a given photo with the type of cactus it contains"
   ]
  },
  {
   "cell_type": "code",
   "execution_count": 15,
   "metadata": {},
   "outputs": [],
   "source": [
    "from os import listdir\n",
    "from os.path import isfile, join\n",
    "\n",
    "def appendXmlCactusPhotoVSTypeMapping(photosPath, xmlFilePath):\n",
    "    onlyfiles = [f for f in listdir(photosPath) if isfile(join(photosPath, f))]\n",
    "    for filename in onlyfiles:\n",
    "        with open(xmlFilePath, \"a\") as xmlFile:\n",
    "            xmlFile.write(\"<Mapping>\\n\")\n",
    "            xmlFile.write(\"\\t<Type>N/A</Type>\\n\")\n",
    "            xmlFile.write(\"\\t<PhotoName>\"+filename+\"</PhotoName>\\n\")\n",
    "            xmlFile.write(\"</Mapping>\\n\")\n",
    "    "
   ]
  },
  {
   "cell_type": "markdown",
   "metadata": {},
   "source": [
    "## Examplary usage\n",
    "*appendXmlCactusPhotoVSTypeMapping('/Users/admin/Cactusifier/res/', '/Users/admin/Cactusifier/cfg/Cactusifier.PhotoVsType.Mapping.xml')*"
   ]
  },
  {
   "cell_type": "code",
   "execution_count": 16,
   "metadata": {},
   "outputs": [],
   "source": []
  },
  {
   "cell_type": "code",
   "execution_count": null,
   "metadata": {},
   "outputs": [],
   "source": []
  }
 ],
 "metadata": {
  "kernelspec": {
   "display_name": "Python 3",
   "language": "python",
   "name": "python3"
  },
  "language_info": {
   "codemirror_mode": {
    "name": "ipython",
    "version": 3
   },
   "file_extension": ".py",
   "mimetype": "text/x-python",
   "name": "python",
   "nbconvert_exporter": "python",
   "pygments_lexer": "ipython3",
   "version": "3.6.4"
  }
 },
 "nbformat": 4,
 "nbformat_minor": 2
}
